{
 "cells": [
  {
   "cell_type": "code",
   "execution_count": 3,
   "id": "cd1a3c35",
   "metadata": {},
   "outputs": [],
   "source": [
    "from pytube import YouTube, Playlist\n",
    "import os\n",
    "import subprocess"
   ]
  },
  {
   "cell_type": "code",
   "execution_count": 4,
   "id": "18f0687f",
   "metadata": {},
   "outputs": [],
   "source": [
    "def create_subfolder(output_path, playlist_title):\n",
    "    subfolder = os.path.join(output_path, f\"{playlist_title}\")\n",
    "    os.makedirs(subfolder, exist_ok=True)\n",
    "    return subfolder\n",
    "\n",
    "def download_and_convert_video(video_url, subfolder, playlist_sequence):\n",
    "    yt = YouTube(video_url)\n",
    "\n",
    "    # Get highest bitrate audio stream for given codec (defaults to mp4)\n",
    "    audio = yt.streams.get_audio_only()\n",
    "\n",
    "    audio.download(output_path=subfolder)\n",
    "\n",
    "    file_name = audio.default_filename\n",
    "    print(file_name)\n",
    "    source = os.path.join(subfolder, file_name)\n",
    "\n",
    "    if ' ' in file_name:\n",
    "        new_file_name = file_name.replace(' ', '_')\n",
    "        os.rename(source, os.path.join(subfolder, new_file_name))\n",
    "        file_name = new_file_name\n",
    "\n",
    "    file_without_ext = os.path.splitext(file_name)[0]\n",
    "\n",
    "    # Format the output file name with the playlist sequence number\n",
    "    formatted_file_name = f\"{playlist_sequence:02d}. {file_without_ext}.mp3\"\n",
    "\n",
    "    print(formatted_file_name)\n",
    "    command = f'ffmpeg -i \"{os.path.join(subfolder, file_name)}\" -b:a 192k \"{os.path.join(subfolder, formatted_file_name)}\"'\n",
    "    print(command)\n",
    "    # Use subprocess to run the command\n",
    "    subprocess.run(command, shell=True)\n",
    "\n",
    "    # Remove the original downloaded file\n",
    "    os.remove(os.path.join(subfolder, file_name))"
   ]
  },
  {
   "cell_type": "code",
   "execution_count": 6,
   "id": "a7e8f33c",
   "metadata": {},
   "outputs": [
    {
     "name": "stdout",
     "output_type": "stream",
     "text": [
      "Please enter the YouTube playlist URLs (separated by commas): https://www.youtube.com/playlist?list=OLAK5uy_mspNFwfR1xczFnK17IyLKhYNSJXXAboGY\n",
      "Processing playlist: In the Time of Locusts\n",
      "https://www.youtube.com/watch?v=Sj2OzvYzRKk\n",
      "The Forest.mp4\n",
      "01. The_Forest.mp3\n",
      "ffmpeg -i \"D:\\Music\\In the Time of Locusts\\The_Forest.mp4\" -b:a 192k \"D:\\Music\\In the Time of Locusts\\01. The_Forest.mp3\"\n",
      "https://www.youtube.com/watch?v=1MKIisp-Afw\n",
      "Drowning.mp4\n",
      "02. Drowning.mp3\n",
      "ffmpeg -i \"D:\\Music\\In the Time of Locusts\\Drowning.mp4\" -b:a 192k \"D:\\Music\\In the Time of Locusts\\02. Drowning.mp3\"\n",
      "https://www.youtube.com/watch?v=7jMDSgj5xAA\n",
      "Last Throw of the Dice.mp4\n",
      "03. Last_Throw_of_the_Dice.mp3\n",
      "ffmpeg -i \"D:\\Music\\In the Time of Locusts\\Last_Throw_of_the_Dice.mp4\" -b:a 192k \"D:\\Music\\In the Time of Locusts\\03. Last_Throw_of_the_Dice.mp3\"\n",
      "https://www.youtube.com/watch?v=QH1kwQPccQo\n",
      "Blindfold.mp4\n",
      "04. Blindfold.mp3\n",
      "ffmpeg -i \"D:\\Music\\In the Time of Locusts\\Blindfold.mp4\" -b:a 192k \"D:\\Music\\In the Time of Locusts\\04. Blindfold.mp3\"\n",
      "https://www.youtube.com/watch?v=0hIgeQBYa8c\n",
      "Oh Suzanna.mp4\n",
      "05. Oh_Suzanna.mp3\n",
      "ffmpeg -i \"D:\\Music\\In the Time of Locusts\\Oh_Suzanna.mp4\" -b:a 192k \"D:\\Music\\In the Time of Locusts\\05. Oh_Suzanna.mp3\"\n",
      "https://www.youtube.com/watch?v=hcvoTPhoQxs\n",
      "Coward.mp4\n",
      "06. Coward.mp3\n",
      "ffmpeg -i \"D:\\Music\\In the Time of Locusts\\Coward.mp4\" -b:a 192k \"D:\\Music\\In the Time of Locusts\\06. Coward.mp3\"\n",
      "https://www.youtube.com/watch?v=NOLJSjv7K7M\n",
      "Release Me.mp4\n",
      "07. Release_Me.mp3\n",
      "ffmpeg -i \"D:\\Music\\In the Time of Locusts\\Release_Me.mp4\" -b:a 192k \"D:\\Music\\In the Time of Locusts\\07. Release_Me.mp3\"\n",
      "https://www.youtube.com/watch?v=5j5TbL7qqRo\n",
      "Spectre.mp4\n",
      "08. Spectre.mp3\n",
      "ffmpeg -i \"D:\\Music\\In the Time of Locusts\\Spectre.mp4\" -b:a 192k \"D:\\Music\\In the Time of Locusts\\08. Spectre.mp3\"\n",
      "https://www.youtube.com/watch?v=6uABa-DMgHk\n",
      "Hollow.mp4\n",
      "09. Hollow.mp3\n",
      "ffmpeg -i \"D:\\Music\\In the Time of Locusts\\Hollow.mp4\" -b:a 192k \"D:\\Music\\In the Time of Locusts\\09. Hollow.mp3\"\n",
      "https://www.youtube.com/watch?v=AMAbpXYV59A\n",
      "Sorrow.mp4\n",
      "10. Sorrow.mp3\n",
      "ffmpeg -i \"D:\\Music\\In the Time of Locusts\\Sorrow.mp4\" -b:a 192k \"D:\\Music\\In the Time of Locusts\\10. Sorrow.mp3\"\n",
      "https://www.youtube.com/watch?v=iJ5VRDGs4No\n",
      "The Great Escape.mp4\n",
      "11. The_Great_Escape.mp3\n",
      "ffmpeg -i \"D:\\Music\\In the Time of Locusts\\The_Great_Escape.mp4\" -b:a 192k \"D:\\Music\\In the Time of Locusts\\11. The_Great_Escape.mp3\"\n"
     ]
    }
   ],
   "source": [
    "# Allow the user to enter multiple YouTube playlist URLs separated by commas\n",
    "playlist_urls = input(\"Please enter the YouTube playlist URLs (separated by commas): \").split(',')\n",
    "\n",
    "output_path = 'D:\\Music\\\\'\n",
    "\n",
    "# Process each playlist URL\n",
    "for playlist_url in playlist_urls:\n",
    "    playlist = Playlist(playlist_url.strip())\n",
    "    print(f\"Processing playlist: {playlist.title}\")\n",
    "\n",
    "    subfolder = create_subfolder(output_path, playlist.title)\n",
    "\n",
    "    # Process each video in the playlist\n",
    "    for index, video_url in enumerate(playlist.video_urls, start=1):\n",
    "        print(video_url)\n",
    "        download_and_convert_video(video_url, subfolder, index)\n"
   ]
  },
  {
   "cell_type": "code",
   "execution_count": null,
   "id": "17a0a0f2",
   "metadata": {},
   "outputs": [],
   "source": []
  }
 ],
 "metadata": {
  "kernelspec": {
   "display_name": "Python 3 (ipykernel)",
   "language": "python",
   "name": "python3"
  },
  "language_info": {
   "codemirror_mode": {
    "name": "ipython",
    "version": 3
   },
   "file_extension": ".py",
   "mimetype": "text/x-python",
   "name": "python",
   "nbconvert_exporter": "python",
   "pygments_lexer": "ipython3",
   "version": "3.7.4"
  }
 },
 "nbformat": 4,
 "nbformat_minor": 5
}
